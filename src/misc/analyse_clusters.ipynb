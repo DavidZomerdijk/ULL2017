{
 "cells": [
  {
   "cell_type": "code",
   "execution_count": 32,
   "metadata": {
    "collapsed": false
   },
   "outputs": [],
   "source": [
    "import pickle\n",
    "import os\n",
    "from os import path\n",
    "from collections import defaultdict\n",
    "import sys\n",
    "sys.path.append(\"..\")\n",
    "from main import Dataset\n",
    "import numpy as np"
   ]
  },
  {
   "cell_type": "code",
   "execution_count": 30,
   "metadata": {
    "collapsed": false
   },
   "outputs": [
    {
     "name": "stdout",
     "output_type": "stream",
     "text": [
      "Loading dataset (../../data/gold_deps.txt-t3000.pkl) from disk\n",
      "Dataset ready\n",
      "\tUnique verbs:\t712\n",
      "\tUnique verb-pos tags:\t32\n",
      "\tUnique verb-pos combinations:\t1546\n",
      "\tUnique nouns:\t1505\n",
      "\tUnique verb-noun pairs (train):\t900\n",
      "\tUnique verb-noun pairs (test):\t2563\n",
      "\tUnique intransitive subjects:\t115\n",
      "\tUnique transitive subjects:\t\t175\n",
      "\tUnique transitive objects:\t\t236\n",
      "\tUnique subject-object pairs:\t290\n"
     ]
    }
   ],
   "source": [
    "data_path = path.join('../..', 'data')\n",
    "gold_corpus = path.join(data_path, 'gold_deps.txt')\n",
    "all_pairs = path.join(data_path, 'all_pairs')\n",
    "path = \"./\"\n",
    "\n",
    "clusters = pickle.load(open(\"clusters.pkl\", \"rb\"))\n",
    "dataset = Dataset.load(gold_corpus, n_test_pairs=3000)"
   ]
  },
  {
   "cell_type": "code",
   "execution_count": 49,
   "metadata": {
    "collapsed": false
   },
   "outputs": [],
   "source": [
    "def softmax(x):\n",
    "    e_x = np.exp(x - np.max(x))\n",
    "    return e_x / e_x.sum()\n",
    "\n",
    "# Now determine which class occurs most often\n",
    "final_clusters = defaultdict(list)\n",
    "\n",
    "for verb in dataset.vs:\n",
    "    counts = []\n",
    "    for c in range(0,len(clusters)):\n",
    "        if verb in clusters[c]:\n",
    "            counts.append(clusters[c][verb])\n",
    "        else:\n",
    "            counts.append(0)\n",
    "    softmax_list = softmax(counts)\n",
    "    cluster = int(softmax_list.argmax(axis=0))\n",
    "    \n",
    "    if  isinstance(cluster ,int):\n",
    "\n",
    "        final_clusters[cluster].append( (verb ,softmax_list[cluster] ) )\n",
    "    \n",
    "        \n",
    "    "
   ]
  },
  {
   "cell_type": "code",
   "execution_count": 59,
   "metadata": {
    "collapsed": false
   },
   "outputs": [
    {
     "data": {
      "text/plain": [
       "[('manag', 0.17786139041215357),\n",
       " ('purchas', 0.17786139041215351),\n",
       " ('prohibit', 0.17786139041215351),\n",
       " ('propos', 0.15261275355154857),\n",
       " ('attract', 0.14738227392714331),\n",
       " ('sold', 0.12686675949144199),\n",
       " ('pick', 0.085700790577504793),\n",
       " ('advertis', 0.085700790577504793),\n",
       " ('encroach', 0.085700790577504793),\n",
       " ('toler', 0.085700790577504793),\n",
       " ('buck', 0.085700790577504793),\n",
       " ('swap', 0.085700790577504793),\n",
       " ('lengthen', 0.081296686356602532),\n",
       " ('record', 0.081296686356602532),\n",
       " ('calcul', 0.081296686356602532),\n",
       " ('averag', 0.081296686356602532),\n",
       " ('saw', 0.081296686356602532),\n",
       " ('inherit', 0.081296686356602532),\n",
       " ('repeal', 0.081296686356602532),\n",
       " ('constitut', 0.081296686356602532),\n",
       " ('dislik', 0.081296686356602532),\n",
       " ('slow', 0.081296686356602532),\n",
       " ('eye', 0.081296686356602532),\n",
       " ('spurn', 0.081296686356602532),\n",
       " ('understand', 0.081296686356602532),\n",
       " ('shed', 0.081296686356602532),\n",
       " ('handl', 0.081296686356602532),\n",
       " ('plan', 0.081296686356602532),\n",
       " ('induc', 0.081296686356602532),\n",
       " ('trim', 0.081296686356602532),\n",
       " ('doubl', 0.077323105561357963),\n",
       " ('special', 0.077323105561357963),\n",
       " ('examin', 0.077323105561357963),\n",
       " ('extend', 0.077323105561357963),\n",
       " ('grew', 0.073719861223678837),\n",
       " ('result', 0.073719861223678837),\n",
       " ('call', 0.073719861223678837),\n",
       " ('reach', 0.070437485670350269),\n",
       " ('keep', 0.070437485670350269),\n",
       " ('paid', 0.064677919190761601),\n",
       " ('expand', 0.064677919190761587),\n",
       " ('know', 0.064677919190761574),\n",
       " ('reduc', 0.062137475575784584),\n",
       " ('surg', 0.05558733488970443)]"
      ]
     },
     "execution_count": 59,
     "metadata": {},
     "output_type": "execute_result"
    }
   ],
   "source": [
    "sorted(final_clusters[4], key=lambda tup: tup[1],reverse=True)"
   ]
  },
  {
   "cell_type": "code",
   "execution_count": 54,
   "metadata": {
    "collapsed": false
   },
   "outputs": [
    {
     "data": {
      "text/plain": [
       "[('boost', 0.057611688476582906),\n",
       " ('found', 0.059789058469383198),\n",
       " ('got', 0.059789058469383198),\n",
       " ('work', 0.062137475575784584),\n",
       " ('expect', 0.064677919190761574),\n",
       " ('improv', 0.064677919190761587),\n",
       " ('live', 0.067434945865281606),\n",
       " ('serv', 0.067434945865281606),\n",
       " ('file', 0.067434945865281606),\n",
       " ('studi', 0.073719861223678837),\n",
       " ('stand', 0.073719861223678837),\n",
       " ('stretch', 0.073719861223678837),\n",
       " ('wear', 0.073719861223678837),\n",
       " ('decri', 0.073719861223678837),\n",
       " ('resist', 0.073719861223678837),\n",
       " ('realiz', 0.073719861223678837),\n",
       " ('advis', 0.077323105561357963),\n",
       " ('condemn', 0.077323105561357963),\n",
       " ('suggest', 0.077323105561357963),\n",
       " ('eat', 0.081296686356602532),\n",
       " ('mirror', 0.081296686356602532),\n",
       " ('rebuk', 0.081296686356602532),\n",
       " ('sleep', 0.081296686356602532),\n",
       " ('command', 0.081296686356602532),\n",
       " ('split', 0.081296686356602532),\n",
       " ('anger', 0.081296686356602532),\n",
       " ('choos', 0.081296686356602532),\n",
       " ('veto', 0.081296686356602532),\n",
       " ('ralli', 0.081296686356602532),\n",
       " ('battl', 0.081296686356602532),\n",
       " ('seiz', 0.081296686356602532),\n",
       " ('circul', 0.081296686356602532),\n",
       " ('renew', 0.085700790577504793),\n",
       " ('lie', 0.085700790577504793),\n",
       " ('check', 0.085700790577504793),\n",
       " ('discontinu', 0.085700790577504793),\n",
       " ('bark', 0.085700790577504793),\n",
       " ('search', 0.085700790577504793),\n",
       " ('roll', 0.085700790577504793),\n",
       " ('contain', 0.10933112185409392),\n",
       " ('succeed', 0.12793002228497108),\n",
       " ('climb', 0.14384124878256332),\n",
       " ('put', 0.14881916688484365),\n",
       " ('find', 0.15261275355154857),\n",
       " ('sought', 0.15822814449185404),\n",
       " ('build', 0.16427255830511889),\n",
       " ('rout', 0.20305709713497605),\n",
       " ('went', 0.2850829652019124)]"
      ]
     },
     "execution_count": 54,
     "metadata": {},
     "output_type": "execute_result"
    }
   ],
   "source": []
  },
  {
   "cell_type": "code",
   "execution_count": null,
   "metadata": {
    "collapsed": true
   },
   "outputs": [],
   "source": [
    "print"
   ]
  }
 ],
 "metadata": {
  "kernelspec": {
   "display_name": "Python [conda root]",
   "language": "python",
   "name": "conda-root-py"
  },
  "language_info": {
   "codemirror_mode": {
    "name": "ipython",
    "version": 3
   },
   "file_extension": ".py",
   "mimetype": "text/x-python",
   "name": "python",
   "nbconvert_exporter": "python",
   "pygments_lexer": "ipython3",
   "version": "3.5.2"
  }
 },
 "nbformat": 4,
 "nbformat_minor": 1
}
