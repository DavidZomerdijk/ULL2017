{
 "cells": [
  {
   "cell_type": "code",
   "execution_count": 2,
   "metadata": {
    "collapsed": true
   },
   "outputs": [],
   "source": [
    "import pickle\n",
    "import numpy as np\n",
    "from src.main import LSCVerbClasses\n",
    "from src.main import Dataset\n",
    "import re"
   ]
  },
  {
   "cell_type": "code",
   "execution_count": 3,
   "metadata": {},
   "outputs": [],
   "source": [
    "data_model = pickle.load( open( \"./out/all_pairs-30-50.pkl\", \"rb\" ) )\n",
    "dataset =  pickle.load( open( \"./data/all_pairs.pkl\", \"rb\" ) )"
   ]
  },
  {
   "cell_type": "code",
   "execution_count": 4,
   "metadata": {},
   "outputs": [],
   "source": [
    "p_vc_sorted = np.argsort(data_model.p_vc, axis=0)[-20:,:]\n",
    "p_nc_sorted = np.argsort(data_model.p_nc, axis=0)[-20:,:]"
   ]
  },
  {
   "cell_type": "code",
   "execution_count": 5,
   "metadata": {},
   "outputs": [
    {
     "name": "stdout",
     "output_type": "stream",
     "text": [
      "Class number 1\nTrue\nNumber 20 of the verbe/nouns:\n     Verb:             do_os_dobj   prob = 0.034985\n     Noun:             what   prob = 0.237119\nTrue\nNumber 19 of the verbe/nouns:\n     Verb:             happened_s_nsubj   prob = 0.022331\n     Noun:             What   prob = 0.230326\nFalse\nNumber 18 of the verbe/nouns:\n     Verb:             include_sooo_dobj   prob = 0.020890\n     Noun:             whom   prob = 0.030964\nTrue\nNumber 17 of the verbe/nouns:\n     Verb:             doing_os_dobj   prob = 0.018741\n     Noun:             whatever   prob = 0.025028\nTrue\nNumber 16 of the verbe/nouns:\n     Verb:             mean_os_dobj   prob = 0.015765\n     Noun:             Whatever   prob = 0.017772\nTrue\nNumber 15 of the verbe/nouns:\n     Verb:             is_os_dobj   prob = 0.015130\n     Noun:             which   prob = 0.008579\nFalse\nNumber 14 of the verbe/nouns:\n     Verb:             happens_s_nsubj   prob = 0.015091\n     Noun:             Who   prob = 0.006269\nFalse\nNumber 13 of the verbe/nouns:\n     Verb:             say_os_dobj   prob = 0.013792\n     Noun:             Nothing   prob = 0.006258\nTrue\nNumber 12 of the verbe/nouns:\n     Verb:             think_os_dobj   prob = 0.013052\n     Noun:             that   prob = 0.005960\nFalse\nNumber 11 of the verbe/nouns:\n     Verb:             was_os_dobj   prob = 0.011322\n     Noun:             Price   prob = 0.005456\nTrue\nNumber 10 of the verbe/nouns:\n     Verb:             be_os_dobj   prob = 0.011309\n     Noun:             sort   prob = 0.005118\nFalse\nNumber 9 of the verbe/nouns:\n     Verb:             happen_s_nsubj   prob = 0.010068\n     Noun:             Which   prob = 0.005009\nFalse\nNumber 8 of the verbe/nouns:\n     Verb:             want_os_dobj   prob = 0.010020\n     Noun:             Having   prob = 0.004973\nTrue\nNumber 7 of the verbe/nouns:\n     Verb:             happening_s_nsubj   prob = 0.009284\n     Noun:             things   prob = 0.004774\nFalse\nNumber 6 of the verbe/nouns:\n     Verb:             see_oo_dobj   prob = 0.007781\n     Noun:             whoever   prob = 0.004356\nFalse\nNumber 5 of the verbe/nouns:\n     Verb:             said_os_dobj   prob = 0.007454\n     Noun:             WHO   prob = 0.003487\nFalse\nNumber 4 of the verbe/nouns:\n     Verb:             going_s_nsubj   prob = 0.007436\n     Noun:             director   prob = 0.003469\nFalse\nNumber 3 of the verbe/nouns:\n     Verb:             includes_sooo_nsubj   prob = 0.007399\n     Noun:             Something   prob = 0.003309\nFalse\nNumber 2 of the verbe/nouns:\n     Verb:             does_so_nsubj   prob = 0.006918\n     Noun:             Playing   prob = 0.003163\nFalse\nNumber 1 of the verbe/nouns:\n     Verb:             are_os_dobj   prob = 0.006713\n     Noun:             seeing   prob = 0.003121\n"
     ]
    }
   ],
   "source": [
    "top_n_idx = np.shape(p_vc_sorted)[1]\n",
    "for cls in range(data_model.n_cs):\n",
    "\tprint \"Class number %i\"%(cls + 1)\n",
    "\tfor idx in range(19,-1,-1):\n",
    "\t\tnoun_idx = p_nc_sorted[idx,cls]\n",
    "\t\tverb_idx = p_vc_sorted[idx,cls]\n",
    "\t\tprint (verb_idx, noun_idx) in dataset.ys_train_dict\n",
    "\t\tprint \"Number %i of the verbe/nouns:\"%(idx + 1)\n",
    "\t\tprint \"     Verb:             %s   prob = %f\"%(dataset.vs[verb_idx], data_model.p_vc[verb_idx,cls]) \n",
    "\t\tprint \"     Noun:             %s   prob = %f\"%(dataset.ns[noun_idx], data_model.p_nc[noun_idx,cls])\n",
    "\tbreak"
   ]
  },
  {
   "cell_type": "code",
   "execution_count": 93,
   "metadata": {},
   "outputs": [
    {
     "name": "stdout",
     "output_type": "stream",
     "text": [
      "\\begin{sidewaystable}[] \n\\centering  \n\\caption{My caption} \n\\label{my-label} \n\\begin{tabular}{|l|l|llllllllllllllllllll|} \n\\hline\\begin{tabular}[c]{@{}l@{}}Class 2\\ PROB  0.032424\\end{tabular} &     &       \\rotatebox[origin=c]{90}{      0.050542    }     &       \\rotatebox[origin=c]{90}{      0.045762    }     &       \\rotatebox[origin=c]{90}{      0.034434    }     &       \\rotatebox[origin=c]{90}{      0.025263    }     &       \\rotatebox[origin=c]{90}{      0.019763    }     &       \\rotatebox[origin=c]{90}{      0.017049    }     &       \\rotatebox[origin=c]{90}{      0.015104    }     &       \\rotatebox[origin=c]{90}{      0.015004    }     &       \\rotatebox[origin=c]{90}{      0.013209    }     &       \\rotatebox[origin=c]{90}{      0.012146    }     &       \\rotatebox[origin=c]{90}{      0.009975    }     &       \\rotatebox[origin=c]{90}{      0.008387    }     &       \\rotatebox[origin=c]{90}{      0.008294    }     &       \\rotatebox[origin=c]{90}{      0.007764    }     &       \\rotatebox[origin=c]{90}{      0.00663    }     &       \\rotatebox[origin=c]{90}{      0.006295    }     &       \\rotatebox[origin=c]{90}{      0.005834    }     &       \\rotatebox[origin=c]{90}{      0.00575    }     &       \\rotatebox[origin=c]{90}{      0.005523    }     &       \\rotatebox[origin=c]{90}{      0.005315    }      \\\\ \\hline\n&     &     \\rotatebox[origin=c]{90}{    one      }     &     \\rotatebox[origin=c]{90}{    time      }     &     \\rotatebox[origin=c]{90}{    all      }     &     \\rotatebox[origin=c]{90}{    eyes      }     &     \\rotatebox[origin=c]{90}{    two      }     &     \\rotatebox[origin=c]{90}{    most      }     &     \\rotatebox[origin=c]{90}{    money      }     &     \\rotatebox[origin=c]{90}{    hours      }     &     \\rotatebox[origin=c]{90}{    day      }     &     \\rotatebox[origin=c]{90}{    years      }     &     \\rotatebox[origin=c]{90}{    lot      }     &     \\rotatebox[origin=c]{90}{    days      }     &     \\rotatebox[origin=c]{90}{    No      }     &     \\rotatebox[origin=c]{90}{    million      }     &     \\rotatebox[origin=c]{90}{    year      }     &     \\rotatebox[origin=c]{90}{    rest      }     &     \\rotatebox[origin=c]{90}{    son      }     &     \\rotatebox[origin=c]{90}{    much      }     &     \\rotatebox[origin=c]{90}{    half      }     &     \\rotatebox[origin=c]{90}{    Who      }      \\\\ \\hline\\ 0.0246 & \\verb|said_so_nsubj|  & $\\bigcdot$  & $\\bigcdot$  & $\\bigcdot$  &    &    & $\\bigcdot$  & $\\bigcdot$  & $\\bigcdot$  & $\\bigcdot$  & $\\bigcdot$  & $\\bigcdot$  &    & $\\bigcdot$  &    & $\\bigcdot$  &    & $\\bigcdot$  & $\\bigcdot$  & $\\bigcdot$  & $\\bigcdot$  \\\\ \\ 0.0232 & \\verb|spent_so_dobj|  &    & $\\bigcdot$  & $\\bigcdot$  &    & $\\bigcdot$  & $\\bigcdot$  & $\\bigcdot$  & $\\bigcdot$  & $\\bigcdot$  & $\\bigcdot$  & $\\bigcdot$  & $\\bigcdot$  &    & $\\bigcdot$  & $\\bigcdot$  & $\\bigcdot$  &    & $\\bigcdot$  & $\\bigcdot$  &    \\\\ \\ 0.0168 & \\verb|were_ss_nsubj|  & $\\bigcdot$  &    & $\\bigcdot$  & $\\bigcdot$  & $\\bigcdot$  & $\\bigcdot$  &    &    &    & $\\bigcdot$  & $\\bigcdot$  & $\\bigcdot$  &    &    & $\\bigcdot$  &    &    &    &    &    \\\\ \\ 0.0134 & \\verb|spend_so_dobj|  &    & $\\bigcdot$  & $\\bigcdot$  &    &    & $\\bigcdot$  & $\\bigcdot$  & $\\bigcdot$  & $\\bigcdot$  & $\\bigcdot$  & $\\bigcdot$  & $\\bigcdot$  &    & $\\bigcdot$  & $\\bigcdot$  & $\\bigcdot$  &    & $\\bigcdot$  & $\\bigcdot$  &    \\\\ \\ 0.0073 & \\verb|cost_so_dobj|  &    & $\\bigcdot$  &    &    &    &    & $\\bigcdot$  &    &    &    & $\\bigcdot$  &    &    & $\\bigcdot$  &    &    &    & $\\bigcdot$  &    &    \\\\ \\ 0.0069 & \\verb|cost_soo_dobj|  &    &    &    &    & $\\bigcdot$  &    & $\\bigcdot$  &    &    & $\\bigcdot$  & $\\bigcdot$  &    &    & $\\bigcdot$  & $\\bigcdot$  &    & $\\bigcdot$  & $\\bigcdot$  & $\\bigcdot$  &    \\\\ \\ 0.0063 & \\verb|had_sooo_dobj|  & $\\bigcdot$  & $\\bigcdot$  & $\\bigcdot$  & $\\bigcdot$  & $\\bigcdot$  & $\\bigcdot$  & $\\bigcdot$  & $\\bigcdot$  &    & $\\bigcdot$  & $\\bigcdot$  &    &    &    &    & $\\bigcdot$  & $\\bigcdot$  & $\\bigcdot$  &    &    \\\\ \\ 0.0062 & \\verb|had_so_dobj|  & $\\bigcdot$  & $\\bigcdot$  & $\\bigcdot$  & $\\bigcdot$  & $\\bigcdot$  & $\\bigcdot$  & $\\bigcdot$  & $\\bigcdot$  & $\\bigcdot$  & $\\bigcdot$  & $\\bigcdot$  & $\\bigcdot$  &    &    & $\\bigcdot$  & $\\bigcdot$  & $\\bigcdot$  & $\\bigcdot$  & $\\bigcdot$  &    \\\\ \\ 0.0059 & \\verb|included_soo_dobj|  & $\\bigcdot$  &    & $\\bigcdot$  &    & $\\bigcdot$  &    &    & $\\bigcdot$  &    &    &    &    &    &    &    &    &    &    &    &    \\\\ \\ 0.0055 & \\verb|came_s_nsubj|  & $\\bigcdot$  & $\\bigcdot$  & $\\bigcdot$  & $\\bigcdot$  & $\\bigcdot$  & $\\bigcdot$  & $\\bigcdot$  &    & $\\bigcdot$  & $\\bigcdot$  & $\\bigcdot$  & $\\bigcdot$  & $\\bigcdot$  &    &    & $\\bigcdot$  & $\\bigcdot$  & $\\bigcdot$  & $\\bigcdot$  &    \\\\ \\ 0.0055 & \\verb|includes_so_dobj|  & $\\bigcdot$  &    & $\\bigcdot$  &    & $\\bigcdot$  & $\\bigcdot$  &    &    & $\\bigcdot$  & $\\bigcdot$  &    &    &    & $\\bigcdot$  &    &    &    &    &    &    \\\\ \\ 0.0050 & \\verb|took_soo_dobj|  & $\\bigcdot$  & $\\bigcdot$  & $\\bigcdot$  &    & $\\bigcdot$  & $\\bigcdot$  &    & $\\bigcdot$  & $\\bigcdot$  & $\\bigcdot$  & $\\bigcdot$  & $\\bigcdot$  &    &    & $\\bigcdot$  & $\\bigcdot$  &    &    & $\\bigcdot$  &    \\\\ \\ 0.0043 & \\verb|made_sso_nsubj|  &    &    &    &    &    &    &    &    & $\\bigcdot$  & $\\bigcdot$  &    &    &    &    &    &    & $\\bigcdot$  &    &    &    \\\\ \\ 0.0043 & \\verb|called_o_dobj|  &    &    &    &    &    &    &    &    &    &    &    &    &    &    &    &    &    &    &    &    \\\\ \\ 0.0039 & \\verb|had_soo_dobj|  & $\\bigcdot$  & $\\bigcdot$  & $\\bigcdot$  & $\\bigcdot$  & $\\bigcdot$  & $\\bigcdot$  & $\\bigcdot$  & $\\bigcdot$  & $\\bigcdot$  & $\\bigcdot$  & $\\bigcdot$  &    &    &    & $\\bigcdot$  &    & $\\bigcdot$  & $\\bigcdot$  & $\\bigcdot$  &    \\\\ \\ 0.0036 & \\verb|spends_so_dobj|  &    & $\\bigcdot$  & $\\bigcdot$  &    &    & $\\bigcdot$  & $\\bigcdot$  & $\\bigcdot$  & $\\bigcdot$  & $\\bigcdot$  & $\\bigcdot$  &    &    & $\\bigcdot$  & $\\bigcdot$  & $\\bigcdot$  &    & $\\bigcdot$  &    &    \\\\ \\ 0.0034 & \\verb|lost_so_dobj|  & $\\bigcdot$  & $\\bigcdot$  & $\\bigcdot$  & $\\bigcdot$  & $\\bigcdot$  & $\\bigcdot$  & $\\bigcdot$  &    &    &    & $\\bigcdot$  & $\\bigcdot$  &    & $\\bigcdot$  &    &    & $\\bigcdot$  & $\\bigcdot$  & $\\bigcdot$  &    \\\\ \\ 0.0031 & \\verb|play_so_nsubj|  & $\\bigcdot$  &    & $\\bigcdot$  &    & $\\bigcdot$  & $\\bigcdot$  &    &    &    & $\\bigcdot$  &    &    &    &    &    & $\\bigcdot$  &    &    &    &    \\\\ \\ 0.0031 & \\verb|plays_so_nsubj|  &    &    &    &    &    &    &    &    & $\\bigcdot$  &    &    &    &    &    &    &    & $\\bigcdot$  &    & $\\bigcdot$  & $\\bigcdot$  \\\\ \\ 0.0031 & \\verb|costs_so_dobj|  &    & $\\bigcdot$  &    &    &    &    & $\\bigcdot$  &    &    &    & $\\bigcdot$  &    &    & $\\bigcdot$  &    &    &    & $\\bigcdot$  &    &    \\\\ \n\\hline \n\\end{tabular} \n\\end{sidewaystable} \n\n"
     ]
    }
   ],
   "source": [
    "def make_row(dataset, p_vc_sorted, p_nc_sorted, cls):\n",
    "\trows = []\n",
    "\tfor v_idx in range(19,-1,-1):\n",
    "\t\tverb_idx = p_vc_sorted[v_idx,cls]\n",
    "\t\trow = '\\\\' +  \" {0:.4f}\".format(round(data_model.p_vc[verb_idx,cls],6)) + ' & \\\\verb|' + str(dataset.vs[verb_idx]) + \"|  \"\n",
    "\t\tfor n_idx in range(19,-1,-1):\n",
    "\t\t\tnoun_idx = p_nc_sorted[n_idx,cls]\n",
    "\t\t\tif (verb_idx, noun_idx) in dataset.ys_train_dict:\n",
    "\t\t\t\trow += '& $\\\\bigcdot$  '\n",
    "\t\t\telse:\n",
    "\t\t\t\trow += \"&    \"\n",
    "\t\t\n",
    "\t\trows.append(row)\n",
    "\treturn \"\\\\\\\\ \".join(rows)\n",
    "\n",
    "def make_rop_rows(p_nc_sorted, data_model, cls=0, prob=0):\n",
    "\trow1 = \"\\\\begin{tabular}[c]{@{}l@{}}Class \"+ str(cls + 1) +\"\\\\ PROB  \" + str(round(prob,6)) +  \"\\end{tabular} &     \"\n",
    "\trow2 = \"&     \"\n",
    "\tfor n_idx in range(19,-1,-1):\n",
    "\t\tnoun_idx = p_nc_sorted[n_idx,cls]\n",
    "\t\trow1 +=    \"&       \\\\rotatebox[origin=c]{90}{      \" + str(round(data_model.p_nc[noun_idx,cls],6)) + \"    }     \"\n",
    "\t\trow2 += \"&     \\\\rotatebox[origin=c]{90}{    \" + dataset.ns[noun_idx] + \"      }     \"\n",
    "\trow1 += \" \\\\\\\\\" + \" \\\\hline\"\n",
    "\trow2 += \" \\\\\\\\\" + \" \\\\hline\"\n",
    "\treturn row1 + \"\\n\" +  row2\n",
    "\n",
    "def table_bottom():\n",
    "\treturn \"\\\\\\\\ \\n\" + \"\\hline \\n\" + \"\\end{tabular} \\n\" + \"\\end{sidewaystable} \\n\"\n",
    "\n",
    "def table_top(caption = \"My caption\", label=\"my-label\"):\n",
    "\treturn \"\\\\begin{sidewaystable}[] \\n\" + \"\\centering  \\n\" +  \"\\caption{\"+ caption +\"} \\n\" + \"\\label{\" + label +\"} \\n\" + '\\\\' \\\n",
    "\t       + \"begin{tabular}{|l|l|llllllllllllllllllll|} \\n\" + \"\\hline\"\n",
    "\n",
    "cls=1 \n",
    "caption = \"My caption\"\n",
    "label=\"my-label\"\n",
    "\n",
    "\n",
    "top  = table_top(caption, label)\n",
    "top_rows =  make_rop_rows(p_nc_sorted, data_model, cls, data_model.p_c[cls])\n",
    "rows = make_row(dataset, p_vc_sorted, p_nc_sorted, cls)\n",
    "table_bottom = table_bottom()\n",
    "\n",
    "print top + top_rows + rows + table_bottom\n",
    "\n"
   ]
  },
  {
   "cell_type": "code",
   "execution_count": 65,
   "metadata": {},
   "outputs": [],
   "source": [
    "def make_row(dataset, p_vc_sorted, p_nc_sorted, cls):\n",
    "\tfor verb_idx in range(19,-1,-1): # verb \n",
    "\t\tprint str(dataset.vs[p_vc_sorted[verb_idx,cls]])\n",
    "\t\tfor noun_idx in range(19,-1,-1): # noun\n",
    "\t\t\tprint str(dataset.ns[p_nc_sorted[noun_idx,cls]])\n",
    "\t\tbreak"
   ]
  },
  {
   "cell_type": "code",
   "execution_count": 79,
   "metadata": {},
   "outputs": [
    {
     "name": "stdout",
     "output_type": "stream",
     "text": [
      "[ 0.02090714  0.03242419  0.00525705  0.05566628  0.03931658  0.04630966\n  0.0456866   0.02685806  0.11589502  0.02993689  0.09756467  0.06421352\n  0.10231856  0.04341478  0.01623537  0.05586092  0.04327222  0.05219809\n  0.14698199  0.03131853  0.07046181  0.06513357  0.11871335  0.0616375\n  0.08035743  0.06652193  0.05767502  0.03127336  0.07038077  0.04853718]\n"
     ]
    }
   ],
   "source": [
    "print data_model.p_c"
   ]
  },
  {
   "cell_type": "code",
   "execution_count": 88,
   "metadata": {},
   "outputs": [
    {
     "name": "stdout",
     "output_type": "stream",
     "text": [
      "0.146981987894\n"
     ]
    }
   ],
   "source": [
    "print data_model.p_c[18]"
   ]
  },
  {
   "cell_type": "code",
   "execution_count": null,
   "metadata": {},
   "outputs": [],
   "source": [
    ""
   ]
  }
 ],
 "metadata": {
  "kernelspec": {
   "display_name": "Python 2",
   "language": "python",
   "name": "python2"
  },
  "language_info": {
   "codemirror_mode": {
    "name": "ipython",
    "version": 2.0
   },
   "file_extension": ".py",
   "mimetype": "text/x-python",
   "name": "python",
   "nbconvert_exporter": "python",
   "pygments_lexer": "ipython2",
   "version": "2.7.6"
  }
 },
 "nbformat": 4,
 "nbformat_minor": 0
}